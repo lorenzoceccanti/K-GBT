{
 "cells": [
  {
   "cell_type": "markdown",
   "metadata": {},
   "source": [
    "Required libraries:\n",
    "\n",
    "```pip install pyvis```\n",
    "\n",
    "```pip install plotly```\n",
    "\n",
    "```pip install nbformat```"
   ]
  },
  {
   "cell_type": "code",
   "execution_count": 57,
   "metadata": {},
   "outputs": [],
   "source": [
    "# Reading JSON files\n",
    "import json\n",
    "def read_json(file_path):\n",
    "    with open(file_path, 'r', encoding='utf-8') as file:\n",
    "        documents = json.load(file)\n",
    "    return documents"
   ]
  },
  {
   "cell_type": "code",
   "execution_count": 58,
   "metadata": {},
   "outputs": [],
   "source": [
    "import networkx as nx\n",
    "# Building knowledge graph\n",
    "def build_knowledge_graph(llm_output, complete=True):\n",
    "    G = nx.Graph()\n",
    "\n",
    "    for doc in llm_output:\n",
    "        # Supposing that each document has a single problem\n",
    "        # for each problem I extract the causes and the solutions\n",
    "        # as they are saved as key-value pairs\n",
    "    \n",
    "        problem = doc.get('problem')\n",
    "        causes = doc.get('causes', [])\n",
    "        solutions = doc.get('solutions', [])\n",
    "\n",
    "        # Adding the problem node\n",
    "        G.add_node(problem, type=\"problem\")\n",
    "\n",
    "        # Adding cause nodes and caused_by edges\n",
    "        for cause in causes:\n",
    "            G.add_node(cause, type='cause')\n",
    "            G.add_edge(problem, cause, type='caused_by')\n",
    "\n",
    "        # Adding solution nodes and solvable_as edges\n",
    "        for solution in solutions:\n",
    "            G.add_node(solution, type='solution')\n",
    "            G.add_edge(problem, solution, type='solvable_as')\n",
    "\n",
    "    return G"
   ]
  },
  {
   "cell_type": "code",
   "execution_count": 59,
   "metadata": {},
   "outputs": [],
   "source": [
    "def colour_graph(G):\n",
    "    # Adding color attributes to the graph for better visualization\n",
    "    color_map = {'problem': 'red', 'cause': 'yellow', 'solution': 'green'}\n",
    "    edge_color_map = {'caused_by': 'orange', 'solvable_as': 'lightblue'}\n",
    "\n",
    "    for node, data in G.nodes(data=True):\n",
    "        node_type = data['type']\n",
    "        if node_type in color_map:\n",
    "            G.nodes[node]['color'] = color_map[node_type]\n",
    "\n",
    "    # Adding color attributes to edges\n",
    "    for u, v, data in G.edges(data=True):\n",
    "        edge_type = data['type']\n",
    "        if edge_type in edge_color_map:\n",
    "            G[u][v]['color'] = edge_color_map[edge_type]\n",
    "    return G"
   ]
  },
  {
   "cell_type": "code",
   "execution_count": 60,
   "metadata": {},
   "outputs": [],
   "source": [
    "from pyvis.network import Network\n",
    "# Showing the graph\n",
    "def visualize_graph(G, output_file):\n",
    "    net = Network(notebook=True, cdn_resources='in_line')\n",
    "    net.from_nx(G)\n",
    "    net.show(output_file)"
   ]
  },
  {
   "cell_type": "code",
   "execution_count": 61,
   "metadata": {},
   "outputs": [
    {
     "name": "stdout",
     "output_type": "stream",
     "text": [
      "r_iphone.html\n",
      "Knowledge graph stored in: r_iphone.html\n",
      "Knowledge Graph in GEXF format stored in r_iphone.gexf\n"
     ]
    }
   ],
   "source": [
    "# Complete graph building\n",
    "file = \"graph_data.json\"\n",
    "knowledge_graph_path = \"r_iphone.html\"\n",
    "# Path of GEXF file (Gephi format)\n",
    "output_gexf_path = 'r_iphone.gexf'\n",
    "llm_output = read_json(file)\n",
    "\n",
    "# Knowledge graph building\n",
    "G = build_knowledge_graph(llm_output)\n",
    "G_col = colour_graph(G)\n",
    "# Showing the knowledge graph\n",
    "visualize_graph(G_col, knowledge_graph_path) # This saves the graph in HTML\n",
    "\n",
    "# Esporting the graph for Gephi\n",
    "nx.write_gexf(G, output_gexf_path)\n",
    "print(f'Knowledge graph stored in: {knowledge_graph_path}')\n",
    "print(f'Knowledge Graph in GEXF format stored in {output_gexf_path}')"
   ]
  },
  {
   "cell_type": "markdown",
   "metadata": {},
   "source": [
    "#### Subgraphs extraction"
   ]
  },
  {
   "cell_type": "code",
   "execution_count": 62,
   "metadata": {},
   "outputs": [],
   "source": [
    "import heapq\n",
    "# This is a function to retrieve all the subgraphs characterized by having highly discussed problems\n",
    "def extract_high_subgraphs(G):\n",
    "\n",
    "    # Finding nodes of type PROBLEM\n",
    "    problem_nodes = [node for node, data in G.nodes(data=True) if data['type'] == 'problem']\n",
    "    \n",
    "    # Computing the number of edges for each PROBLEM node\n",
    "    edge_counts = {node: len(list(G.edges(node))) for node in problem_nodes}\n",
    "    \n",
    "    # Filter nodes with edge counts in the top 10 \n",
    "    top_10_counts = set(heapq.nlargest(10, edge_counts.values()))\n",
    "    max_edge_nodes = [node for node, count in edge_counts.items() if count in top_10_counts]\n",
    "    \n",
    "    # Building subgraphs \n",
    "    subgraphs = []\n",
    "    for node in max_edge_nodes:\n",
    "        neighbors = list(G.neighbors(node))\n",
    "        subgraph_nodes = neighbors + [node]\n",
    "        subgraphs.append(G.subgraph(subgraph_nodes))\n",
    "    \n",
    "    return subgraphs"
   ]
  },
  {
   "cell_type": "code",
   "execution_count": 63,
   "metadata": {},
   "outputs": [
    {
     "name": "stdout",
     "output_type": "stream",
     "text": [
      "./subgraphs/view_subgraph_1.html\n",
      "Knowledge graph stored in: ./subgraphs/view_subgraph_1.html\n",
      "./subgraphs/view_subgraph_2.html\n",
      "Knowledge graph stored in: ./subgraphs/view_subgraph_2.html\n",
      "./subgraphs/view_subgraph_3.html\n",
      "Knowledge graph stored in: ./subgraphs/view_subgraph_3.html\n",
      "./subgraphs/view_subgraph_4.html\n",
      "Knowledge graph stored in: ./subgraphs/view_subgraph_4.html\n",
      "./subgraphs/view_subgraph_5.html\n",
      "Knowledge graph stored in: ./subgraphs/view_subgraph_5.html\n",
      "./subgraphs/view_subgraph_6.html\n",
      "Knowledge graph stored in: ./subgraphs/view_subgraph_6.html\n",
      "./subgraphs/view_subgraph_7.html\n",
      "Knowledge graph stored in: ./subgraphs/view_subgraph_7.html\n",
      "./subgraphs/view_subgraph_8.html\n",
      "Knowledge graph stored in: ./subgraphs/view_subgraph_8.html\n",
      "./subgraphs/view_subgraph_9.html\n",
      "Knowledge graph stored in: ./subgraphs/view_subgraph_9.html\n",
      "./subgraphs/view_subgraph_10.html\n",
      "Knowledge graph stored in: ./subgraphs/view_subgraph_10.html\n"
     ]
    }
   ],
   "source": [
    "# SUBGRAPHS\n",
    "\n",
    "llm_output = read_json(file)\n",
    "\n",
    "# Knowledge graph building\n",
    "H_arr = extract_high_subgraphs(G)\n",
    "count = 0\n",
    "for H in H_arr:\n",
    "    count += 1\n",
    "    knowledge_graph_path = f\"./subgraphs/view_subgraph_{count}.html\"\n",
    "    H_col = colour_graph(H)\n",
    "    # Showing the knowledge graph\n",
    "    visualize_graph(H_col, knowledge_graph_path) # This saves the graph in HTML\n",
    "\n",
    "    print(f'Knowledge graph stored in: {knowledge_graph_path}')\n",
    "\n"
   ]
  }
 ],
 "metadata": {
  "kernelspec": {
   "display_name": "BPM",
   "language": "python",
   "name": "python3"
  },
  "language_info": {
   "codemirror_mode": {
    "name": "ipython",
    "version": 3
   },
   "file_extension": ".py",
   "mimetype": "text/x-python",
   "name": "python",
   "nbconvert_exporter": "python",
   "pygments_lexer": "ipython3",
   "version": "3.12.3"
  }
 },
 "nbformat": 4,
 "nbformat_minor": 2
}
